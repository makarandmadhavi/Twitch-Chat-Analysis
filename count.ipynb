{
 "cells": [
  {
   "cell_type": "code",
   "execution_count": 1,
   "metadata": {},
   "outputs": [],
   "source": [
    "import findspark\n",
    "\n",
    "findspark.init(\"D:/spark/spark\")"
   ]
  },
  {
   "cell_type": "code",
   "execution_count": 9,
   "metadata": {},
   "outputs": [],
   "source": [
    "from pyspark import SparkConf, SparkContext, SQLContext\n",
    "import re\n",
    "from operator import add\n",
    "import io \n",
    "import spark"
   ]
  },
  {
   "cell_type": "code",
   "execution_count": 3,
   "metadata": {},
   "outputs": [],
   "source": [
    "conf = (SparkConf ()\n",
    "        .setMaster(\"local[8]\")\n",
    "        .setAppName(\"sample app for reading files\")\n",
    "        .set(\"spark.executor.memory\", \"2g\"))\n",
    "\n",
    "sc = SparkContext.getOrCreate(conf=conf)\n"
   ]
  },
  {
   "cell_type": "code",
   "execution_count": 14,
   "metadata": {},
   "outputs": [
    {
     "name": "stdout",
     "output_type": "stream",
     "text": [
      "+--------------------+\n",
      "|                 _c0|\n",
      "+--------------------+\n",
      "|cat mat rat cat m...|\n",
      "|         lat mat cat|\n",
      "|                 sat|\n",
      "|                 and|\n",
      "|the or and cat ma...|\n",
      "|             cat sat|\n",
      "|                 mad|\n",
      "|                 xie|\n",
      "|        sat mat mon |\n",
      "|      tues wed thurs|\n",
      "+--------------------+\n",
      "\n"
     ]
    }
   ],
   "source": [
    "sqlContext = SQLContext (sc)\n",
    "df = sqlContext.read.option(\"header\", \"false\").csv(\"file[1-2]*\")\n",
    "df.show()"
   ]
  },
  {
   "cell_type": "code",
   "execution_count": 51,
   "metadata": {},
   "outputs": [],
   "source": [
    "def mapper(row):\n",
    "    # get the text from the row entry\n",
    "    text = row._c0\n",
    "     \n",
    "    #remove unwanted chars\n",
    "    text=re.sub(\"\\\\W\",\" \",text)\n",
    "\n",
    "    # lower case text and split by space to get the words\n",
    "    words = text.lower ().split (\" \")\n",
    "\n",
    "    # for each word, send back a count of 1\n",
    "    return [[w, 1] for w in words]\n",
    "\n",
    "\n",
    "def reducer1(df):\n",
    "    df.show (2, False)\n",
    "\n",
    "    mapped_rdd = df.rdd.flatMap (lambda row: mapper (row))\n",
    "    print(\"Mapper output -\")\n",
    "    print(mapped_rdd.collect())\n",
    "   \n",
    "    counts_rdd = mapped_rdd.reduceByKey (lambda a,b:b)\n",
    "    \n",
    "    print(\"Reducer 1 output -\")\n",
    "    \n",
    "    print(counts_rdd.collect())\n",
    "    \n",
    "    word_count = reducer2(counts_rdd)\n",
    "    \n",
    "    return word_count\n",
    "\n",
    "def reducer2(counts_rdd):\n",
    "    return counts_rdd.values().sum()"
   ]
  },
  {
   "cell_type": "code",
   "execution_count": 52,
   "metadata": {},
   "outputs": [
    {
     "name": "stdout",
     "output_type": "stream",
     "text": [
      "+-----------------------+\n",
      "|_c0                    |\n",
      "+-----------------------+\n",
      "|cat mat rat cat mat sat|\n",
      "|lat mat cat            |\n",
      "+-----------------------+\n",
      "only showing top 2 rows\n",
      "\n",
      "Mapper output -\n",
      "[['cat', 1], ['mat', 1], ['rat', 1], ['cat', 1], ['mat', 1], ['sat', 1], ['lat', 1], ['mat', 1], ['cat', 1], ['sat', 1], ['and', 1], ['the', 1], ['or', 1], ['and', 1], ['cat', 1], ['mat', 1], ['vijay', 1], ['cat', 1], ['sat', 1], ['mad', 1], ['xie', 1], ['sat', 1], ['mat', 1], ['mon', 1], ['', 1], ['tues', 1], ['wed', 1], ['thurs', 1]]\n",
      "Reducer 1 output -\n",
      "[('cat', 1), ('sat', 1), ('vijay', 1), ('xie', 1), ('mon', 1), ('', 1), ('wed', 1), ('thurs', 1), ('mat', 1), ('rat', 1), ('lat', 1), ('and', 1), ('the', 1), ('or', 1), ('mad', 1), ('tues', 1)]\n",
      "distinct count = 16\n"
     ]
    }
   ],
   "source": [
    "print(\"distinct count =\",reducer1(df) )"
   ]
  },
  {
   "cell_type": "code",
   "execution_count": null,
   "metadata": {},
   "outputs": [],
   "source": []
  }
 ],
 "metadata": {
  "kernelspec": {
   "display_name": "Python 3",
   "language": "python",
   "name": "python3"
  },
  "language_info": {
   "codemirror_mode": {
    "name": "ipython",
    "version": 3
   },
   "file_extension": ".py",
   "mimetype": "text/x-python",
   "name": "python",
   "nbconvert_exporter": "python",
   "pygments_lexer": "ipython3",
   "version": "3.8.5"
  }
 },
 "nbformat": 4,
 "nbformat_minor": 4
}
