{
 "cells": [
  {
   "cell_type": "code",
   "execution_count": 4,
   "metadata": {},
   "outputs": [],
   "source": [
    "import sys\n",
    "inputfile = 'matrix.txt'\n",
    "\n",
    "mapout = open(\"mapoutput.txt\",\"a\")\n",
    "with open(inputfile) as f:\n",
    "    for line in f:\n",
    "        line = line.strip()\n",
    "        entry = line.split(\",\")\n",
    "        key = entry[0]\n",
    "        value= line\n",
    "        if key=='a':\n",
    "            mapout.write('{0}\\t{1}\\n'.format(key,value))\n",
    "        elif key=='b':\n",
    "            mapout.write('{0}\\t{1}\\n'.format(key,value))\n",
    "mapout.close()"
   ]
  },
  {
   "cell_type": "code",
   "execution_count": 17,
   "metadata": {},
   "outputs": [
    {
     "name": "stdout",
     "output_type": "stream",
     "text": [
      "{(0, 0): 1, (0, 1): 2, (1, 0): 3, (1, 1): 2}\n",
      "{(0, 0): 1, (0, 1): 5, (1, 0): 2, (1, 1): 6}\n",
      "(0,0)\t 5\n",
      "(0,1)\t 17\n",
      "(1,0)\t 7\n",
      "(1,1)\t 27\n"
     ]
    }
   ],
   "source": [
    "#reducer code\n",
    "\n",
    "import sys\n",
    "a={}\n",
    "b={}\n",
    "\n",
    "with open('mapoutput.txt') as f:\n",
    "    for input_line in f:\n",
    "        input_line = input_line.strip()\n",
    "        this_key,value = input_line.split(\"\\t\",1)\n",
    "        v = value.split(\",\")\n",
    "        if this_key=='a':\n",
    "            a[(int(v[1]),int(v[2]))]=int(v[3])\n",
    "        elif this_key=='b':\n",
    "            b[(int(v[1]),int(v[2]))]=int(v[3])\n",
    "print(a)\n",
    "print(b)\n",
    "result=0\n",
    "for i in range(0,2):\n",
    "    for j in range(0,2):\n",
    "        for k in range(0,2):\n",
    "            result = result + a[(i,k)]*b[(k,j)]\n",
    "        print(\"({0},{1})\\t {2}\".format(i,j,result))\n",
    "        result =0  "
   ]
  },
  {
   "cell_type": "code",
   "execution_count": null,
   "metadata": {},
   "outputs": [],
   "source": []
  }
 ],
 "metadata": {
  "kernelspec": {
   "display_name": "Python 3",
   "language": "python",
   "name": "python3"
  },
  "language_info": {
   "codemirror_mode": {
    "name": "ipython",
    "version": 3
   },
   "file_extension": ".py",
   "mimetype": "text/x-python",
   "name": "python",
   "nbconvert_exporter": "python",
   "pygments_lexer": "ipython3",
   "version": "3.8.5"
  }
 },
 "nbformat": 4,
 "nbformat_minor": 4
}
